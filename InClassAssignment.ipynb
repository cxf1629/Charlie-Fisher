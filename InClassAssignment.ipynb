{
  "nbformat": 4,
  "nbformat_minor": 0,
  "metadata": {
    "colab": {
      "provenance": [],
      "authorship_tag": "ABX9TyOCGbOni9EBG39oLfTjYYjA",
      "include_colab_link": true
    },
    "kernelspec": {
      "name": "python3",
      "display_name": "Python 3"
    },
    "language_info": {
      "name": "python"
    }
  },
  "cells": [
    {
      "cell_type": "markdown",
      "metadata": {
        "id": "view-in-github",
        "colab_type": "text"
      },
      "source": [
        "<a href=\"https://colab.research.google.com/github/cxf1629/Charlie-Fisher/blob/main/InClassAssignment.ipynb\" target=\"_parent\"><img src=\"https://colab.research.google.com/assets/colab-badge.svg\" alt=\"Open In Colab\"/></a>"
      ]
    },
    {
      "cell_type": "code",
      "source": [
        "r = 3\n",
        "pi = 3.14\n",
        "h = 10\n",
        "area = (2* pi * r ** 2) + (2 * pi * r * h)\n",
        "print(area)"
      ],
      "metadata": {
        "colab": {
          "base_uri": "https://localhost:8080/"
        },
        "id": "jvGwTjGMP4wF",
        "outputId": "b88312c5-9a98-4dab-f043-fde9abc8be07"
      },
      "execution_count": null,
      "outputs": [
        {
          "output_type": "stream",
          "name": "stdout",
          "text": [
            "244.92000000000002\n"
          ]
        }
      ]
    },
    {
      "cell_type": "markdown",
      "source": [
        "Rock - Paper - Scissors"
      ],
      "metadata": {
        "id": "f7lvNGd8S4Rx"
      }
    },
    {
      "cell_type": "code",
      "source": [
        "#input\n",
        "player1 = input('Choose Rock, Paper or Scissors: ')\n",
        "player2 = input('Choose Rock, Paper or Scissors: ')\n",
        "if player1 == player2:\n",
        "  print('Draw')\n",
        "elif (player1 == 'Scissors' and player2 == 'Paper') or (player1 == 'Rock' and player2 == 'Scissors') or (player1 == 'Paper' and player2 == 'Rock'):\n",
        "  print('player 1 wins!')\n",
        "else:\n",
        "  print('player 2 wins!')"
      ],
      "metadata": {
        "colab": {
          "base_uri": "https://localhost:8080/"
        },
        "id": "IoQepQJYS3cQ",
        "outputId": "ca670f55-3f83-47fb-cd71-71c048a22fb0"
      },
      "execution_count": null,
      "outputs": [
        {
          "output_type": "stream",
          "name": "stdout",
          "text": [
            "Choose Rock, Paper or Scissors: Scissors\n",
            "Choose Rock, Paper or ScissorsPaper\n",
            "player 1 wins!\n"
          ]
        }
      ]
    },
    {
      "cell_type": "markdown",
      "source": [
        "Now you can choose to play randomly against the computer, instead of being Co-op (like previously)"
      ],
      "metadata": {
        "id": "uQGiopTO3_W8"
      }
    },
    {
      "cell_type": "code",
      "source": [
        "player1 = input('Choose Rock, Paper or Scissors: ')\n",
        "player2 = random.choice ('Rock', 'Paper', 'Scissors')\n",
        "if player1 == player2:\n",
        "  print('Draw')\n",
        "elif (player1 == 'Scissors' and player2 == 'Paper') or (player1 == 'Rock' and player2 == 'Scissors') or (player1 == 'Paper' and player2 == 'Rock'):\n",
        "  print('player 1 wins!')\n",
        "else:\n",
        "  print('player 2 wins!')"
      ],
      "metadata": {
        "id": "Xx1-4bFY4KhA"
      },
      "execution_count": null,
      "outputs": []
    },
    {
      "cell_type": "code",
      "source": [
        "Create a Calculator\n"
      ],
      "metadata": {
        "id": "RCwKcSMtAIJD"
      },
      "execution_count": null,
      "outputs": []
    },
    {
      "cell_type": "code",
      "source": [
        "n1 = float(input(''))\n",
        "Symbol = input('')\n",
        "n2 = float(input(''))\n",
        "if Symbol == '+':\n",
        "  final_value = n1 + n2\n",
        "elif Symbol == '/':\n",
        "  final_value = n1/n2\n",
        "elif Symbol == '-':\n",
        "  final_value = n1 - n2\n",
        "elif Symbol == '*':\n",
        "  final_value = n1*n2\n",
        "elif Symbol == '**':\n",
        "  final_value = n1**n2\n",
        "print(final_value)"
      ],
      "metadata": {
        "colab": {
          "base_uri": "https://localhost:8080/"
        },
        "id": "K6hQl5TZ9xGJ",
        "outputId": "a02722da-56eb-4f97-9bdf-544bc30ba585"
      },
      "execution_count": null,
      "outputs": [
        {
          "output_type": "stream",
          "name": "stdout",
          "text": [
            "4\n",
            "//\n",
            "2\n",
            "2.0\n"
          ]
        }
      ]
    },
    {
      "cell_type": "markdown",
      "source": [
        "rock-paper-scissors game (loop)\n"
      ],
      "metadata": {
        "id": "WdDtzlD7854g"
      }
    },
    {
      "cell_type": "code",
      "source": [
        "import random as rd\n",
        "\n",
        "c = input('would you like to play Rock-Paper-Scissors?: ')\n",
        "\n",
        "while c == 'Yes':\n",
        "  player1 = input('Choose Rock, Paper or Scissors: ')\n",
        "  player2 = rd.choice(['Rock', 'Paper', 'Scissors'])\n",
        "\n",
        "  if player1 == player2:\n",
        "    print('Draw')\n",
        "  elif (player1 == 'Scissors' and player2 == 'Paper') or (player1 == 'Rock' and player2 == 'Scissors') or (player1 == 'Paper' and player2 == 'Rock'):\n",
        "    print('player 1 wins!')\n",
        "  else:\n",
        "    print('Computer wins!')\n",
        "  c =input('would you like to play another game?: ')\n",
        "print('Have a nice day!')\n",
        "\n"
      ],
      "metadata": {
        "colab": {
          "base_uri": "https://localhost:8080/"
        },
        "id": "leFsus3w9Idl",
        "outputId": "f6b7e1e1-cab5-45de-c750-0cf5a65595a7"
      },
      "execution_count": null,
      "outputs": [
        {
          "output_type": "stream",
          "name": "stdout",
          "text": [
            "would you like to play Rock-Paper-Scissors?: Yes\n",
            "Choose Rock, Paper or Scissors: Rock\n",
            "Draw\n",
            "would you like to play another game?: No\n",
            "Have a nice day!\n"
          ]
        }
      ]
    },
    {
      "cell_type": "markdown",
      "source": [
        "Parking Garage - Initial Problem\n"
      ],
      "metadata": {
        "id": "MvR62iWnEILO"
      }
    },
    {
      "cell_type": "code",
      "source": [
        "flat = 5\n",
        "for t in range(1,9):\n",
        "  charge = flat + t*2.5\n",
        "  if charge < 10:\n",
        "    charge = 10\n",
        "  elif charge > 20:\n",
        "    charge = 20\n",
        "  print(t, \"$\"+ str(charge))"
      ],
      "metadata": {
        "id": "I5FbriyiELLG"
      },
      "execution_count": null,
      "outputs": []
    },
    {
      "cell_type": "markdown",
      "source": [
        "Movie Theatre - Initial Problem"
      ],
      "metadata": {
        "id": "WVHoMoanMhOa"
      }
    },
    {
      "cell_type": "code",
      "source": [
        "ticket = 10\n",
        "for ad in range(0,201,25):\n",
        "  tfc = 200\n",
        "  profit = ticket*(20+(2* (ad**.5)))- tfc - ad\n",
        "  print(ad, round(profit, 2))"
      ],
      "metadata": {
        "colab": {
          "base_uri": "https://localhost:8080/"
        },
        "id": "ZB9CZPVMMf6T",
        "outputId": "85730bc5-b881-4bc2-9a7d-0f67e9c05395"
      },
      "execution_count": null,
      "outputs": [
        {
          "output_type": "stream",
          "name": "stdout",
          "text": [
            "0 0.0\n",
            "25 75.0\n",
            "50 91.42\n",
            "75 98.21\n",
            "100 100.0\n",
            "125 98.61\n",
            "150 94.95\n",
            "175 89.58\n",
            "200 82.84\n"
          ]
        }
      ]
    },
    {
      "cell_type": "code",
      "source": [
        "ticket = 10\n",
        "tfc = 200\n",
        "stdatt = 20\n",
        "\n",
        "ad = 0\n",
        "while ad< 201:\n",
        "  profit = ticket*(stdatt+(2* (ad**.5)))- tfc - ad\n",
        "  print(ad, round(profit, 2))\n",
        "  ad = ad + 25\n",
        "# the updated ad value has to always be the last line"
      ],
      "metadata": {
        "id": "CzOnZsQjR4T-"
      },
      "execution_count": null,
      "outputs": []
    },
    {
      "cell_type": "code",
      "source": [
        "L = []\n",
        "\n",
        "c = input('what integer would you like to add to the string: ')\n",
        "while int(c) != 0:\n",
        "  L.append(c)\n",
        "  print(L)\n",
        "  if len(L) >= 5:\n",
        "    break\n",
        "  c = input('what else?: ')\n"
      ],
      "metadata": {
        "id": "bvVLS7k6T8HK",
        "colab": {
          "base_uri": "https://localhost:8080/"
        },
        "outputId": "b70d4a24-5a63-429e-802d-242951de9701"
      },
      "execution_count": null,
      "outputs": [
        {
          "output_type": "stream",
          "name": "stdout",
          "text": [
            "what integer would you like to add to the string: 6\n",
            "['6']\n",
            "what else?: 3\n",
            "['6', '3']\n",
            "what else?: 2\n",
            "['6', '3', '2']\n",
            "what else?: 4\n",
            "['6', '3', '2', '4']\n",
            "what else?: 5\n",
            "['6', '3', '2', '4', '5']\n"
          ]
        }
      ]
    },
    {
      "cell_type": "code",
      "source": [
        "L = []\n",
        "\n",
        "item = int(input('What value do you want to add to the list? : '))\n",
        "while item != 0:\n",
        "  L.append(item)\n",
        "  int(input('what else?: '))"
      ],
      "metadata": {
        "colab": {
          "base_uri": "https://localhost:8080/",
          "height": 365
        },
        "id": "H0cSw3PCaTJc",
        "outputId": "a1e90c8d-460f-48e4-cacb-c32a89f6ebad"
      },
      "execution_count": null,
      "outputs": [
        {
          "output_type": "error",
          "ename": "KeyboardInterrupt",
          "evalue": "Interrupted by user",
          "traceback": [
            "\u001b[0;31m---------------------------------------------------------------------------\u001b[0m",
            "\u001b[0;31mKeyboardInterrupt\u001b[0m                         Traceback (most recent call last)",
            "\u001b[0;32m<ipython-input-47-17d811b106a4>\u001b[0m in \u001b[0;36m<cell line: 3>\u001b[0;34m()\u001b[0m\n\u001b[1;32m      1\u001b[0m \u001b[0mL\u001b[0m \u001b[0;34m=\u001b[0m \u001b[0;34m[\u001b[0m\u001b[0;34m]\u001b[0m\u001b[0;34m\u001b[0m\u001b[0;34m\u001b[0m\u001b[0m\n\u001b[1;32m      2\u001b[0m \u001b[0;34m\u001b[0m\u001b[0m\n\u001b[0;32m----> 3\u001b[0;31m \u001b[0mitem\u001b[0m \u001b[0;34m=\u001b[0m \u001b[0mint\u001b[0m\u001b[0;34m(\u001b[0m\u001b[0minput\u001b[0m\u001b[0;34m(\u001b[0m\u001b[0;34m'What value do you want to add to the list? : '\u001b[0m\u001b[0;34m)\u001b[0m\u001b[0;34m)\u001b[0m\u001b[0;34m\u001b[0m\u001b[0;34m\u001b[0m\u001b[0m\n\u001b[0m\u001b[1;32m      4\u001b[0m \u001b[0;32mwhile\u001b[0m \u001b[0mitem\u001b[0m \u001b[0;34m!=\u001b[0m \u001b[0;36m0\u001b[0m\u001b[0;34m:\u001b[0m\u001b[0;34m\u001b[0m\u001b[0;34m\u001b[0m\u001b[0m\n\u001b[1;32m      5\u001b[0m   \u001b[0mL\u001b[0m\u001b[0;34m.\u001b[0m\u001b[0mappend\u001b[0m\u001b[0;34m(\u001b[0m\u001b[0mitem\u001b[0m\u001b[0;34m)\u001b[0m\u001b[0;34m\u001b[0m\u001b[0;34m\u001b[0m\u001b[0m\n",
            "\u001b[0;32m/usr/local/lib/python3.10/dist-packages/ipykernel/kernelbase.py\u001b[0m in \u001b[0;36mraw_input\u001b[0;34m(self, prompt)\u001b[0m\n\u001b[1;32m    849\u001b[0m                 \u001b[0;34m\"raw_input was called, but this frontend does not support input requests.\"\u001b[0m\u001b[0;34m\u001b[0m\u001b[0;34m\u001b[0m\u001b[0m\n\u001b[1;32m    850\u001b[0m             )\n\u001b[0;32m--> 851\u001b[0;31m         return self._input_request(str(prompt),\n\u001b[0m\u001b[1;32m    852\u001b[0m             \u001b[0mself\u001b[0m\u001b[0;34m.\u001b[0m\u001b[0m_parent_ident\u001b[0m\u001b[0;34m,\u001b[0m\u001b[0;34m\u001b[0m\u001b[0;34m\u001b[0m\u001b[0m\n\u001b[1;32m    853\u001b[0m             \u001b[0mself\u001b[0m\u001b[0;34m.\u001b[0m\u001b[0m_parent_header\u001b[0m\u001b[0;34m,\u001b[0m\u001b[0;34m\u001b[0m\u001b[0;34m\u001b[0m\u001b[0m\n",
            "\u001b[0;32m/usr/local/lib/python3.10/dist-packages/ipykernel/kernelbase.py\u001b[0m in \u001b[0;36m_input_request\u001b[0;34m(self, prompt, ident, parent, password)\u001b[0m\n\u001b[1;32m    893\u001b[0m             \u001b[0;32mexcept\u001b[0m \u001b[0mKeyboardInterrupt\u001b[0m\u001b[0;34m:\u001b[0m\u001b[0;34m\u001b[0m\u001b[0;34m\u001b[0m\u001b[0m\n\u001b[1;32m    894\u001b[0m                 \u001b[0;31m# re-raise KeyboardInterrupt, to truncate traceback\u001b[0m\u001b[0;34m\u001b[0m\u001b[0;34m\u001b[0m\u001b[0m\n\u001b[0;32m--> 895\u001b[0;31m                 \u001b[0;32mraise\u001b[0m \u001b[0mKeyboardInterrupt\u001b[0m\u001b[0;34m(\u001b[0m\u001b[0;34m\"Interrupted by user\"\u001b[0m\u001b[0;34m)\u001b[0m \u001b[0;32mfrom\u001b[0m \u001b[0;32mNone\u001b[0m\u001b[0;34m\u001b[0m\u001b[0;34m\u001b[0m\u001b[0m\n\u001b[0m\u001b[1;32m    896\u001b[0m             \u001b[0;32mexcept\u001b[0m \u001b[0mException\u001b[0m \u001b[0;32mas\u001b[0m \u001b[0me\u001b[0m\u001b[0;34m:\u001b[0m\u001b[0;34m\u001b[0m\u001b[0;34m\u001b[0m\u001b[0m\n\u001b[1;32m    897\u001b[0m                 \u001b[0mself\u001b[0m\u001b[0;34m.\u001b[0m\u001b[0mlog\u001b[0m\u001b[0;34m.\u001b[0m\u001b[0mwarning\u001b[0m\u001b[0;34m(\u001b[0m\u001b[0;34m\"Invalid Message:\"\u001b[0m\u001b[0;34m,\u001b[0m \u001b[0mexc_info\u001b[0m\u001b[0;34m=\u001b[0m\u001b[0;32mTrue\u001b[0m\u001b[0;34m)\u001b[0m\u001b[0;34m\u001b[0m\u001b[0;34m\u001b[0m\u001b[0m\n",
            "\u001b[0;31mKeyboardInterrupt\u001b[0m: Interrupted by user"
          ]
        }
      ]
    },
    {
      "cell_type": "code",
      "source": [
        "\n",
        "names = ['Jan', 'Feb', 'Mar', 'Apr', 'May', 'Jun', 'Jul', 'Aug', 'Sep', 'Oct', 'Nov', 'Dec']\n",
        "numbers = [1, 2, 3, 4, 5, 6, 7, 8, 9, 10, 11, 12]\n",
        "months = {}\n",
        "for i in range(12):\n",
        "  months[i+1] = names[i]\n",
        "months\n",
        "\n"
      ],
      "metadata": {
        "colab": {
          "base_uri": "https://localhost:8080/"
        },
        "id": "CCwVeSQIFcEc",
        "outputId": "92b50097-49d6-414e-93f2-b905c72b9ad4"
      },
      "execution_count": null,
      "outputs": [
        {
          "output_type": "execute_result",
          "data": {
            "text/plain": [
              "{1: 'Jan',\n",
              " 2: 'Feb',\n",
              " 3: 'Mar',\n",
              " 4: 'Apr',\n",
              " 5: 'May',\n",
              " 6: 'Jun',\n",
              " 7: 'Jul',\n",
              " 8: 'Aug',\n",
              " 9: 'Sep',\n",
              " 10: 'Oct',\n",
              " 11: 'Nov',\n",
              " 12: 'Dec'}"
            ]
          },
          "metadata": {},
          "execution_count": 2
        }
      ]
    },
    {
      "cell_type": "markdown",
      "source": [
        "Result:\n",
        "{1: 'Jan', 2: 'Feb', ... 12: 'Dec'}"
      ],
      "metadata": {
        "id": "37ZudzS_GDkk"
      }
    },
    {
      "cell_type": "code",
      "source": [
        "{\n",
        "    'example1@gmail.com': {\n",
        "        'First': \"....\"\n",
        "        'Last': \"....\"\n",
        "        'Phone': \"....\"\n",
        "    },\n",
        "}"
      ],
      "metadata": {
        "colab": {
          "base_uri": "https://localhost:8080/",
          "height": 108
        },
        "id": "uuQW8E0tMrAA",
        "outputId": "aa2d85cb-3950-4f62-f7dd-f6bfb5cb91bc"
      },
      "execution_count": null,
      "outputs": [
        {
          "output_type": "error",
          "ename": "SyntaxError",
          "evalue": "invalid syntax (<ipython-input-51-f58fcb7d1839>, line 4)",
          "traceback": [
            "\u001b[0;36m  File \u001b[0;32m\"<ipython-input-51-f58fcb7d1839>\"\u001b[0;36m, line \u001b[0;32m4\u001b[0m\n\u001b[0;31m    'Last': \"....\"\u001b[0m\n\u001b[0m          ^\u001b[0m\n\u001b[0;31mSyntaxError\u001b[0m\u001b[0;31m:\u001b[0m invalid syntax\n"
          ]
        }
      ]
    },
    {
      "cell_type": "code",
      "source": [
        "for key in months.keys():\n",
        "  print(months[key], end= ' ')"
      ],
      "metadata": {
        "colab": {
          "base_uri": "https://localhost:8080/"
        },
        "id": "hM0rCaYSR78Y",
        "outputId": "57586586-8fa6-4467-8d70-c94e3e9c83b6"
      },
      "execution_count": null,
      "outputs": [
        {
          "output_type": "stream",
          "name": "stdout",
          "text": [
            "Jan Feb Mar Apr May Jun Jul Aug Sep Oct Nov Dec "
          ]
        }
      ]
    },
    {
      "cell_type": "code",
      "source": [
        "for value in months.values():\n",
        "  print(value, end= ' ')"
      ],
      "metadata": {
        "colab": {
          "base_uri": "https://localhost:8080/"
        },
        "id": "Yl6u1gs2SzDs",
        "outputId": "d2b09670-9434-4768-e254-774787091c7e"
      },
      "execution_count": null,
      "outputs": [
        {
          "output_type": "stream",
          "name": "stdout",
          "text": [
            "Jan Feb Mar Apr May Jun Jul Aug Sep Oct Nov Dec "
          ]
        }
      ]
    },
    {
      "cell_type": "code",
      "source": [
        "for key, value in months.items():\n",
        "  print(key, value)"
      ],
      "metadata": {
        "colab": {
          "base_uri": "https://localhost:8080/"
        },
        "id": "XkCSQaSBS72q",
        "outputId": "fd55b6f7-ebb8-4a07-d9d5-854724cf60c5"
      },
      "execution_count": null,
      "outputs": [
        {
          "output_type": "stream",
          "name": "stdout",
          "text": [
            "1 Jan\n",
            "2 Feb\n",
            "3 Mar\n",
            "4 Apr\n",
            "5 May\n",
            "6 Jun\n",
            "7 Jul\n",
            "8 Aug\n",
            "9 Sep\n",
            "10 Oct\n",
            "11 Nov\n",
            "12 Dec\n"
          ]
        }
      ]
    },
    {
      "cell_type": "markdown",
      "source": [
        " ### Assignment 1"
      ],
      "metadata": {
        "id": "zCn8Lnj-f9f0"
      }
    },
    {
      "cell_type": "code",
      "source": [
        "annual_salary = float(input(\"Enter your annual salary: \"))\n",
        "portion_saved = float(input(\"Enter the percent of your salary to save, as a decimal: \"))\n",
        "total_cost = float(input(\"Enter the cost of your dream home: \"))\n",
        "\n",
        "portion_down_payment = 0.25  # 25% of the total cost for down payment\n",
        "current_savings = 0.0  #no savings\n",
        "r = 0.04  # Annual return rate\n",
        "\n",
        "\n",
        "down_payment = total_cost * portion_down_payment\n",
        "\n",
        "monthly_salary = annual_salary / 12\n",
        "months = 0\n",
        "\n",
        "\n",
        "while current_savings < down_payment:\n",
        "    current_savings += current_savings * (r / 12)\n",
        "    current_savings += monthly_salary * portion_saved\n",
        "    months += 1\n",
        "\n",
        "\n",
        "print(\"Number of months to purchase dream home:\", months)\n",
        "\n"
      ],
      "metadata": {
        "id": "51I-uiPMXYI1"
      },
      "execution_count": null,
      "outputs": []
    },
    {
      "cell_type": "markdown",
      "source": [
        "### Assignment 2\n"
      ],
      "metadata": {
        "id": "o0nH_7eBgBN0"
      }
    },
    {
      "cell_type": "code",
      "source": [
        "annual_salary = float(input(\"Enter your annual salary: \"))\n",
        "portion_saved = float(input(\"Enter the percent of your salary to save, as a decimal: \"))\n",
        "total_cost = float(input(\"Enter the cost of your dream home: \"))\n",
        "semi_annual_raise = float(input(\"Enter the semi-annual raise, as a decimal: \"))\n",
        "\n",
        "portion_down_payment = 0.25  # 25% of the total cost for down payment\n",
        "current_savings = 0.0  # Start with no savings\n",
        "r = 0.04  # Annual return rate on savings\n",
        "\n",
        "# Calculate the down payment\n",
        "down_payment = total_cost * portion_down_payment\n",
        "\n",
        "# Initialize other variables\n",
        "monthly_salary = annual_salary / 12  # Monthly salary\n",
        "months = 0\n",
        "\n",
        "# Loop until current savings reach down payment amount\n",
        "while current_savings < down_payment:\n",
        "    # Add monthly return on investment and monthly savings from salary\n",
        "    current_savings += current_savings * (r / 12)  # Monthly return\n",
        "    current_savings += monthly_salary * portion_saved  # Monthly savings from salary\n",
        "    months += 1\n",
        "\n",
        "    # Apply the semi-annual raise every 6 months\n",
        "    if months % 6 == 0:\n",
        "        monthly_salary += monthly_salary * semi_annual_raise\n",
        "\n",
        "# Output the number of months required\n",
        "print(\"Number of months:\", months)"
      ],
      "metadata": {
        "id": "Yd3sfLfPk5lm"
      },
      "execution_count": null,
      "outputs": []
    },
    {
      "cell_type": "markdown",
      "source": [
        "### Assignment 3"
      ],
      "metadata": {
        "id": "4dCQqqC3gEzR"
      }
    },
    {
      "cell_type": "code",
      "source": [
        "def range_check(number, low, high):\n",
        "    if low <= number <= high:\n",
        "        print(f\"{number} is in the range between {low} and {high}.\")\n",
        "    else:\n",
        "        print(f\"{number} is not in the range between {low} and {high}.\")\n",
        "\n",
        "range_check(5, 1, 10)"
      ],
      "metadata": {
        "id": "2G-KOFGEgHjD",
        "colab": {
          "base_uri": "https://localhost:8080/"
        },
        "outputId": "5d983a00-b9c6-47fe-f402-8a5514186cd4"
      },
      "execution_count": null,
      "outputs": [
        {
          "output_type": "stream",
          "name": "stdout",
          "text": [
            "5 is in the range between 1 and 10.\n"
          ]
        }
      ]
    },
    {
      "cell_type": "markdown",
      "source": [
        "### Parking Garage\n"
      ],
      "metadata": {
        "id": "97lNXQhuMqbm"
      }
    },
    {
      "cell_type": "code",
      "source": [
        "\n",
        "def calcfee(hours, decimals=2):\n",
        "  if hours > 0:\n",
        "    Parking_fee = (hours * 2.5) + 5\n",
        "    Parking_fee = round(Parking_fee, decimals)\n",
        "    return Parking_fee\n",
        "  else:\n",
        "    print('Today, your parking is free')\n",
        "\n",
        "def displayFee(Parking_fee):\n",
        "  print(Parking_fee)\n",
        "\n",
        "\n",
        "displayFee(calcfee(float(input('How many hours would you like to park today?: '))))\n",
        "# all the 3 lines are compressed into 1\n",
        "# hours = int(input('How many hours would you like to park today?: '))\n",
        "# Parking_fee = calcFee(hours)\n",
        "# displayFee(Parking_Fee)\n",
        "\n",
        "\n"
      ],
      "metadata": {
        "colab": {
          "base_uri": "https://localhost:8080/"
        },
        "id": "FlaT0SKwMqEO",
        "outputId": "abc4b617-7f1a-4108-b56d-c4263f90154b"
      },
      "execution_count": null,
      "outputs": [
        {
          "output_type": "stream",
          "name": "stdout",
          "text": [
            "How many hours would you like to park today?: 4\n",
            "15.0\n"
          ]
        }
      ]
    },
    {
      "cell_type": "markdown",
      "source": [
        "### Reverse the word"
      ],
      "metadata": {
        "id": "U2aqizGpZAev"
      }
    },
    {
      "cell_type": "code",
      "source": [
        "def rev(s):\n",
        "  if len(s)== 1:\n",
        "    return s\n",
        "  else:\n",
        "    return rev(s[1:]) + s[0]\n",
        "rev('halloween')\n"
      ],
      "metadata": {
        "colab": {
          "base_uri": "https://localhost:8080/",
          "height": 35
        },
        "id": "qqdnUIHMUygs",
        "outputId": "974ddfc4-c457-4a9a-c8fe-d48a9849a993"
      },
      "execution_count": null,
      "outputs": [
        {
          "output_type": "execute_result",
          "data": {
            "text/plain": [
              "'neewollah'"
            ],
            "application/vnd.google.colaboratory.intrinsic+json": {
              "type": "string"
            }
          },
          "metadata": {},
          "execution_count": 6
        }
      ]
    },
    {
      "cell_type": "markdown",
      "source": [
        "## $\\frac{\\sum_i w_i L_i}{\\sum_i w_i}$\n",
        "\n",
        "Step 1 list of products: $\\text{res}$, $\\text{w}$ and divide\n",
        "\n",
        "\n"
      ],
      "metadata": {
        "id": "KW8X22F6uwKQ"
      }
    },
    {
      "cell_type": "markdown",
      "source": [
        "\"\"\" function that calculates the weighted average of a list L, given weights w. Function should handle the following exception error types:\n",
        "- ZeroDivisionError (returns empty list)\n",
        "- TypeError (returns empty list)\n",
        "- any other unknown error (returns float('nan')) \"\"\""
      ],
      "metadata": {
        "id": "GT6WUImwvHmC"
      }
    },
    {
      "cell_type": "code",
      "source": [
        "def wAvg(L, w):\n",
        "  assert len(L) = len(w) # not part of the fina\n",
        "  res = []\n",
        "  try:\n",
        "    for i in range(len(L)):\n",
        "      res.append(L[i]*w[i])\n",
        "    return sum(res)/sum(w)\n",
        "  except ZeroDivisionError:\n",
        "    print('Division by zero')\n",
        "    return []\n",
        "  except TypeError:\n",
        "    print('Non-numerical objects found')\n",
        "    return []\n",
        "  except Exception as e:\n",
        "    print(f'Unknown error: {e}')\n",
        "    return float('nan')\n",
        "\n",
        "wAvg([1,2,3], [4,5,6])"
      ],
      "metadata": {
        "colab": {
          "base_uri": "https://localhost:8080/"
        },
        "id": "bGkiHoFXvmyD",
        "outputId": "167ca5b6-4ed4-4532-fc93-9400214fcba8"
      },
      "execution_count": null,
      "outputs": [
        {
          "output_type": "execute_result",
          "data": {
            "text/plain": [
              "1.4545454545454546"
            ]
          },
          "metadata": {},
          "execution_count": 10
        }
      ]
    },
    {
      "cell_type": "markdown",
      "source": [
        "### 1.a. Define a class named Student. Student has two attributes (name & number)\n",
        "\n",
        "### 1.b. Enroll into classes"
      ],
      "metadata": {
        "id": "XnZZPh8Nncp2"
      }
    },
    {
      "cell_type": "code",
      "source": [
        "class Student:\n",
        "  def __init__(self, name, number):\n",
        "    self.name = name\n",
        "    self.number = number\n",
        "    self.courses = []\n",
        "\n",
        "  def set_name(self, newName):\n",
        "    self.name = newName\n",
        "\n",
        "  def get_name(self):\n",
        "    return self.name\n",
        "\n",
        "  def enroll(self, course):\n",
        "    if course not in self.courses:\n",
        "      self.courses.append(course)\n",
        "    else:\n",
        "      print(f' You have already enrolled in {course}')\n",
        "\n",
        "  def get_courses(self):\n",
        "    return self.courses"
      ],
      "metadata": {
        "id": "j2TtdWOfydt7"
      },
      "execution_count": 40,
      "outputs": []
    },
    {
      "cell_type": "code",
      "source": [
        "j = Student('James Bond', '007',)\n",
        "c = Student('Clark Kent', '333',)\n",
        "\n",
        "j.number"
      ],
      "metadata": {
        "colab": {
          "base_uri": "https://localhost:8080/",
          "height": 35
        },
        "id": "ENi86HsXozI8",
        "outputId": "e6cd52b9-dfff-4826-dd4c-7791db803838"
      },
      "execution_count": 41,
      "outputs": [
        {
          "output_type": "execute_result",
          "data": {
            "text/plain": [
              "'007'"
            ],
            "application/vnd.google.colaboratory.intrinsic+json": {
              "type": "string"
            }
          },
          "metadata": {},
          "execution_count": 41
        }
      ]
    },
    {
      "cell_type": "code",
      "source": [
        "j.enroll('BTE430')"
      ],
      "metadata": {
        "id": "r8UhYnmP9hWW"
      },
      "execution_count": 44,
      "outputs": []
    },
    {
      "cell_type": "code",
      "source": [
        "j.get_courses()"
      ],
      "metadata": {
        "colab": {
          "base_uri": "https://localhost:8080/"
        },
        "id": "i-cr_HpLBHcL",
        "outputId": "098436f4-4e28-4a1d-edd9-5e25ca452050"
      },
      "execution_count": 45,
      "outputs": [
        {
          "output_type": "execute_result",
          "data": {
            "text/plain": [
              "['MAS123', 'BTE430']"
            ]
          },
          "metadata": {},
          "execution_count": 45
        }
      ]
    },
    {
      "cell_type": "code",
      "source": [
        "Student.get_name(c)"
      ],
      "metadata": {
        "colab": {
          "base_uri": "https://localhost:8080/",
          "height": 35
        },
        "id": "pqdJtPXu5hfh",
        "outputId": "0525448a-df41-452d-b191-0ba2db8281ed"
      },
      "execution_count": 7,
      "outputs": [
        {
          "output_type": "execute_result",
          "data": {
            "text/plain": [
              "'Clark Kent'"
            ],
            "application/vnd.google.colaboratory.intrinsic+json": {
              "type": "string"
            }
          },
          "metadata": {},
          "execution_count": 7
        }
      ]
    },
    {
      "cell_type": "code",
      "source": [
        "c.get_name() #does the same as the code right above!"
      ],
      "metadata": {
        "colab": {
          "base_uri": "https://localhost:8080/",
          "height": 35
        },
        "id": "njYHhw1l50XV",
        "outputId": "4e7df011-0f86-443b-c36e-a159bdce6918"
      },
      "execution_count": 8,
      "outputs": [
        {
          "output_type": "execute_result",
          "data": {
            "text/plain": [
              "'Clark Kent'"
            ],
            "application/vnd.google.colaboratory.intrinsic+json": {
              "type": "string"
            }
          },
          "metadata": {},
          "execution_count": 8
        }
      ]
    },
    {
      "cell_type": "code",
      "source": [
        "j.set_name('John')\n",
        "j.get_name()"
      ],
      "metadata": {
        "colab": {
          "base_uri": "https://localhost:8080/",
          "height": 35
        },
        "id": "z0a_55KU7c4U",
        "outputId": "2f3c8f36-7a88-45a7-c44e-f1563c29e714"
      },
      "execution_count": 9,
      "outputs": [
        {
          "output_type": "execute_result",
          "data": {
            "text/plain": [
              "'John'"
            ],
            "application/vnd.google.colaboratory.intrinsic+json": {
              "type": "string"
            }
          },
          "metadata": {},
          "execution_count": 9
        }
      ]
    },
    {
      "cell_type": "code",
      "source": [
        "j.name = 'Bob'"
      ],
      "metadata": {
        "id": "m5pIDlHr40Rl"
      },
      "execution_count": 10,
      "outputs": []
    },
    {
      "cell_type": "code",
      "source": [
        "j.get_name()"
      ],
      "metadata": {
        "colab": {
          "base_uri": "https://localhost:8080/",
          "height": 35
        },
        "id": "iowCk2_u7tNH",
        "outputId": "d714697c-bf80-45d5-f0ad-df50d1ae13cf"
      },
      "execution_count": 11,
      "outputs": [
        {
          "output_type": "execute_result",
          "data": {
            "text/plain": [
              "'Bob'"
            ],
            "application/vnd.google.colaboratory.intrinsic+json": {
              "type": "string"
            }
          },
          "metadata": {},
          "execution_count": 11
        }
      ]
    },
    {
      "cell_type": "code",
      "source": [],
      "metadata": {
        "id": "IGup3MA68Y_L"
      },
      "execution_count": null,
      "outputs": []
    }
  ]
}