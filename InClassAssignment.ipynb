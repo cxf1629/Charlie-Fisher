{
  "nbformat": 4,
  "nbformat_minor": 0,
  "metadata": {
    "colab": {
      "provenance": [],
      "authorship_tag": "ABX9TyNw8izcM7Ks+qW4m6BkV/7F",
      "include_colab_link": true
    },
    "kernelspec": {
      "name": "python3",
      "display_name": "Python 3"
    },
    "language_info": {
      "name": "python"
    }
  },
  "cells": [
    {
      "cell_type": "markdown",
      "metadata": {
        "id": "view-in-github",
        "colab_type": "text"
      },
      "source": [
        "<a href=\"https://colab.research.google.com/github/cxf1629/Charlie-Fisher/blob/main/InClassAssignment.ipynb\" target=\"_parent\"><img src=\"https://colab.research.google.com/assets/colab-badge.svg\" alt=\"Open In Colab\"/></a>"
      ]
    },
    {
      "cell_type": "markdown",
      "source": [
        "Rock - Paper - Scissors"
      ],
      "metadata": {
        "id": "f7lvNGd8S4Rx"
      }
    },
    {
      "cell_type": "code",
      "source": [
        "#input\n",
        "player1 = input('Choose Rock, Paper or Scissors: ')\n",
        "player2 = input('Choose Rock, Paper or Scissors: ')\n",
        "if player1 == player2:\n",
        "  print('Draw')\n",
        "elif (player1 == 'Scissors' and player2 == 'Paper') or (player1 == 'Rock' and player2 == 'Scissors') or (player1 == 'Paper' and player2 == 'Rock'):\n",
        "  print('player 1 wins!')\n",
        "else:\n",
        "  print('player 2 wins!')"
      ],
      "metadata": {
        "colab": {
          "base_uri": "https://localhost:8080/"
        },
        "id": "IoQepQJYS3cQ",
        "outputId": "ca670f55-3f83-47fb-cd71-71c048a22fb0"
      },
      "execution_count": null,
      "outputs": [
        {
          "output_type": "stream",
          "name": "stdout",
          "text": [
            "Choose Rock, Paper or Scissors: Scissors\n",
            "Choose Rock, Paper or ScissorsPaper\n",
            "player 1 wins!\n"
          ]
        }
      ]
    },
    {
      "cell_type": "markdown",
      "source": [
        "Now you can choose to play randomly against the computer, instead of being Co-op (like previously)"
      ],
      "metadata": {
        "id": "uQGiopTO3_W8"
      }
    },
    {
      "cell_type": "code",
      "source": [
        "player1 = input('Choose Rock, Paper or Scissors: ')\n",
        "player2 = random.choice ('Rock', 'Paper', 'Scissors')\n",
        "if player1 == player2:\n",
        "  print('Draw')\n",
        "elif (player1 == 'Scissors' and player2 == 'Paper') or (player1 == 'Rock' and player2 == 'Scissors') or (player1 == 'Paper' and player2 == 'Rock'):\n",
        "  print('player 1 wins!')\n",
        "else:\n",
        "  print('player 2 wins!')"
      ],
      "metadata": {
        "id": "Xx1-4bFY4KhA"
      },
      "execution_count": null,
      "outputs": []
    },
    {
      "cell_type": "code",
      "source": [
        "Create a Calculator\n"
      ],
      "metadata": {
        "id": "RCwKcSMtAIJD"
      },
      "execution_count": null,
      "outputs": []
    },
    {
      "cell_type": "code",
      "source": [
        "n1 = float(input(''))\n",
        "Symbol = input('')\n",
        "n2 = float(input(''))\n",
        "if Symbol == '+':\n",
        "  final_value = n1 + n2\n",
        "elif Symbol == '/':\n",
        "  final_value = n1/n2\n",
        "elif Symbol == '-':\n",
        "  final_value = n1 - n2\n",
        "elif Symbol == '*':\n",
        "  final_value = n1*n2\n",
        "elif Symbol == '**':\n",
        "  final_value = n1**n2\n",
        "print(final_value)"
      ],
      "metadata": {
        "colab": {
          "base_uri": "https://localhost:8080/"
        },
        "id": "K6hQl5TZ9xGJ",
        "outputId": "13a2beb2-8aae-4ea3-ccdf-8a631a41f5a0"
      },
      "execution_count": null,
      "outputs": [
        {
          "output_type": "stream",
          "name": "stdout",
          "text": [
            "3\n",
            "**\n",
            "2\n",
            "9.0\n"
          ]
        }
      ]
    },
    {
      "cell_type": "markdown",
      "source": [
        "rock-paper-scissors game (loop)\n"
      ],
      "metadata": {
        "id": "WdDtzlD7854g"
      }
    },
    {
      "cell_type": "code",
      "source": [
        "import random as rd\n",
        "\n",
        "c = input('would you like to play Rock-Paper-Scissors?: ')\n",
        "\n",
        "while c == 'Yes':\n",
        "  player1 = input('Choose Rock, Paper or Scissors: ')\n",
        "  player2 = rd.choice(['Rock', 'Paper', 'Scissors'])\n",
        "\n",
        "  if player1 == player2:\n",
        "    print('Draw')\n",
        "  elif (player1 == 'Scissors' and player2 == 'Paper') or (player1 == 'Rock' and player2 == 'Scissors') or (player1 == 'Paper' and player2 == 'Rock'):\n",
        "    print('player 1 wins!')\n",
        "  else:\n",
        "    print('Computer wins!')\n",
        "  c =input('would you like to play another game?: ')\n",
        "print('Have a nice day!')\n",
        "\n"
      ],
      "metadata": {
        "colab": {
          "base_uri": "https://localhost:8080/"
        },
        "id": "leFsus3w9Idl",
        "outputId": "f6b7e1e1-cab5-45de-c750-0cf5a65595a7"
      },
      "execution_count": null,
      "outputs": [
        {
          "output_type": "stream",
          "name": "stdout",
          "text": [
            "would you like to play Rock-Paper-Scissors?: Yes\n",
            "Choose Rock, Paper or Scissors: Rock\n",
            "Draw\n",
            "would you like to play another game?: No\n",
            "Have a nice day!\n"
          ]
        }
      ]
    },
    {
      "cell_type": "markdown",
      "source": [
        "Parking Garage - Initial Problem\n"
      ],
      "metadata": {
        "id": "MvR62iWnEILO"
      }
    },
    {
      "cell_type": "code",
      "source": [
        "flat = 5\n",
        "for t in range(1,9):\n",
        "  charge = flat + t*2.5\n",
        "  if charge < 10:\n",
        "    charge = 10\n",
        "  elif charge > 20:\n",
        "    charge = 20\n",
        "  print(t, \"$\"+ str(charge))"
      ],
      "metadata": {
        "id": "I5FbriyiELLG"
      },
      "execution_count": null,
      "outputs": []
    },
    {
      "cell_type": "markdown",
      "source": [
        "Movie Theatre - Initial Problem"
      ],
      "metadata": {
        "id": "WVHoMoanMhOa"
      }
    },
    {
      "cell_type": "code",
      "source": [
        "ticket = 10\n",
        "for ad in range(0,201,25):\n",
        "  tfc = 200\n",
        "  profit = ticket*(20+(2* (ad**.5)))- tfc - ad\n",
        "  print(ad, round(profit, 2))"
      ],
      "metadata": {
        "colab": {
          "base_uri": "https://localhost:8080/"
        },
        "id": "ZB9CZPVMMf6T",
        "outputId": "85730bc5-b881-4bc2-9a7d-0f67e9c05395"
      },
      "execution_count": 16,
      "outputs": [
        {
          "output_type": "stream",
          "name": "stdout",
          "text": [
            "0 0.0\n",
            "25 75.0\n",
            "50 91.42\n",
            "75 98.21\n",
            "100 100.0\n",
            "125 98.61\n",
            "150 94.95\n",
            "175 89.58\n",
            "200 82.84\n"
          ]
        }
      ]
    },
    {
      "cell_type": "code",
      "source": [
        "ticket = 10\n",
        "tfc = 200\n",
        "stdatt = 20\n",
        "\n",
        "ad = 0\n",
        "while ad< 201:\n",
        "  profit = ticket*(stdatt+(2* (ad**.5)))- tfc - ad\n",
        "  print(ad, round(profit, 2))\n",
        "  ad = ad + 25\n",
        "# the updated ad value has to always be the last line"
      ],
      "metadata": {
        "id": "CzOnZsQjR4T-"
      },
      "execution_count": null,
      "outputs": []
    },
    {
      "cell_type": "code",
      "source": [],
      "metadata": {
        "id": "bvVLS7k6T8HK"
      },
      "execution_count": null,
      "outputs": []
    }
  ]
}