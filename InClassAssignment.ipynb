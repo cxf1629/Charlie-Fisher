{
  "nbformat": 4,
  "nbformat_minor": 0,
  "metadata": {
    "colab": {
      "provenance": [],
      "authorship_tag": "ABX9TyP5gCf/9v+YAh48gv1JhEba",
      "include_colab_link": true
    },
    "kernelspec": {
      "name": "python3",
      "display_name": "Python 3"
    },
    "language_info": {
      "name": "python"
    }
  },
  "cells": [
    {
      "cell_type": "markdown",
      "metadata": {
        "id": "view-in-github",
        "colab_type": "text"
      },
      "source": [
        "<a href=\"https://colab.research.google.com/github/cxf1629/Charlie-Fisher/blob/main/InClassAssignment.ipynb\" target=\"_parent\"><img src=\"https://colab.research.google.com/assets/colab-badge.svg\" alt=\"Open In Colab\"/></a>"
      ]
    },
    {
      "cell_type": "markdown",
      "source": [
        "Rock - Paper - Scissors"
      ],
      "metadata": {
        "id": "f7lvNGd8S4Rx"
      }
    },
    {
      "cell_type": "code",
      "source": [
        "#input\n",
        "player1 = input('Choose Rock, Paper or Scissors: ')\n",
        "player2 = input('Choose Rock, Paper or Scissors: ')\n",
        "if player1 == player2:\n",
        "  print('Draw')\n",
        "elif (player1 == 'Scissors' and player2 == 'Paper') or (player1 == 'Rock' and player2 == 'Scissors') or (player1 == 'Paper' and player2 == 'Rock'):\n",
        "  print('player 1 wins!')\n",
        "else:\n",
        "  print('player 2 wins!')"
      ],
      "metadata": {
        "colab": {
          "base_uri": "https://localhost:8080/"
        },
        "id": "IoQepQJYS3cQ",
        "outputId": "ca670f55-3f83-47fb-cd71-71c048a22fb0"
      },
      "execution_count": 3,
      "outputs": [
        {
          "output_type": "stream",
          "name": "stdout",
          "text": [
            "Choose Rock, Paper or Scissors: Scissors\n",
            "Choose Rock, Paper or ScissorsPaper\n",
            "player 1 wins!\n"
          ]
        }
      ]
    },
    {
      "cell_type": "markdown",
      "source": [
        "Now you can choose to play randomly against the computer, instead of being Co-op (like previously)"
      ],
      "metadata": {
        "id": "uQGiopTO3_W8"
      }
    },
    {
      "cell_type": "code",
      "source": [
        "player1 = input('Choose Rock, Paper or Scissors: ')\n",
        "player2 = random.choice ('Rock', 'Paper', 'Scissors')\n",
        "if player1 == player2:\n",
        "  print('Draw')\n",
        "elif (player1 == 'Scissors' and player2 == 'Paper') or (player1 == 'Rock' and player2 == 'Scissors') or (player1 == 'Paper' and player2 == 'Rock'):\n",
        "  print('player 1 wins!')\n",
        "else:\n",
        "  print('player 2 wins!')"
      ],
      "metadata": {
        "colab": {
          "base_uri": "https://localhost:8080/",
          "height": 233
        },
        "id": "Xx1-4bFY4KhA",
        "outputId": "8e4ab192-54a7-4820-dbb4-a3b73d3c8a73"
      },
      "execution_count": 5,
      "outputs": [
        {
          "name": "stdout",
          "output_type": "stream",
          "text": [
            "Choose Rock, Paper or Scissors: rock\n"
          ]
        },
        {
          "output_type": "error",
          "ename": "NameError",
          "evalue": "name 'random' is not defined",
          "traceback": [
            "\u001b[0;31m---------------------------------------------------------------------------\u001b[0m",
            "\u001b[0;31mNameError\u001b[0m                                 Traceback (most recent call last)",
            "\u001b[0;32m<ipython-input-5-d5a53dee4dc6>\u001b[0m in \u001b[0;36m<cell line: 2>\u001b[0;34m()\u001b[0m\n\u001b[1;32m      1\u001b[0m \u001b[0mplayer1\u001b[0m \u001b[0;34m=\u001b[0m \u001b[0minput\u001b[0m\u001b[0;34m(\u001b[0m\u001b[0;34m'Choose Rock, Paper or Scissors: '\u001b[0m\u001b[0;34m)\u001b[0m\u001b[0;34m\u001b[0m\u001b[0;34m\u001b[0m\u001b[0m\n\u001b[0;32m----> 2\u001b[0;31m \u001b[0mplayer2\u001b[0m \u001b[0;34m==\u001b[0m \u001b[0mrandom\u001b[0m\u001b[0;34m.\u001b[0m\u001b[0mchoice\u001b[0m \u001b[0;34m(\u001b[0m\u001b[0;34m'Rock'\u001b[0m\u001b[0;34m,\u001b[0m \u001b[0;34m'Paper'\u001b[0m\u001b[0;34m,\u001b[0m \u001b[0;34m'Scissors'\u001b[0m\u001b[0;34m)\u001b[0m\u001b[0;34m\u001b[0m\u001b[0;34m\u001b[0m\u001b[0m\n\u001b[0m\u001b[1;32m      3\u001b[0m \u001b[0;32mif\u001b[0m \u001b[0mplayer1\u001b[0m \u001b[0;34m==\u001b[0m \u001b[0mplayer2\u001b[0m\u001b[0;34m:\u001b[0m\u001b[0;34m\u001b[0m\u001b[0;34m\u001b[0m\u001b[0m\n\u001b[1;32m      4\u001b[0m   \u001b[0mprint\u001b[0m\u001b[0;34m(\u001b[0m\u001b[0;34m'Draw'\u001b[0m\u001b[0;34m)\u001b[0m\u001b[0;34m\u001b[0m\u001b[0;34m\u001b[0m\u001b[0m\n\u001b[1;32m      5\u001b[0m \u001b[0;32melif\u001b[0m \u001b[0;34m(\u001b[0m\u001b[0mplayer1\u001b[0m \u001b[0;34m==\u001b[0m \u001b[0;34m'Scissors'\u001b[0m \u001b[0;32mand\u001b[0m \u001b[0mplayer2\u001b[0m \u001b[0;34m==\u001b[0m \u001b[0;34m'Paper'\u001b[0m\u001b[0;34m)\u001b[0m \u001b[0;32mor\u001b[0m \u001b[0;34m(\u001b[0m\u001b[0mplayer1\u001b[0m \u001b[0;34m==\u001b[0m \u001b[0;34m'Rock'\u001b[0m \u001b[0;32mand\u001b[0m \u001b[0mplayer2\u001b[0m \u001b[0;34m==\u001b[0m \u001b[0;34m'Scissors'\u001b[0m\u001b[0;34m)\u001b[0m \u001b[0;32mor\u001b[0m \u001b[0;34m(\u001b[0m\u001b[0mplayer1\u001b[0m \u001b[0;34m==\u001b[0m \u001b[0;34m'Paper'\u001b[0m \u001b[0;32mand\u001b[0m \u001b[0mplayer2\u001b[0m \u001b[0;34m==\u001b[0m \u001b[0;34m'Rock'\u001b[0m\u001b[0;34m)\u001b[0m\u001b[0;34m:\u001b[0m\u001b[0;34m\u001b[0m\u001b[0;34m\u001b[0m\u001b[0m\n",
            "\u001b[0;31mNameError\u001b[0m: name 'random' is not defined"
          ]
        }
      ]
    },
    {
      "cell_type": "code",
      "source": [
        "Create a Calculator\n"
      ],
      "metadata": {
        "id": "RCwKcSMtAIJD"
      },
      "execution_count": null,
      "outputs": []
    },
    {
      "cell_type": "code",
      "source": [
        "n1 = float(input(''))\n",
        "Symbol = input('')\n",
        "n2 = float(input(''))\n",
        "if Symbol == '+':\n",
        "  final_value = n1 + n2\n",
        "elif Symbol == '/':\n",
        "  final_value = n1/n2\n",
        "elif Symbol == '-':\n",
        "  final_value = n1 - n2\n",
        "elif Symbol == '*':\n",
        "  final_value = n1*n2\n",
        "elif Symbol == '**':\n",
        "  final_value = n1**n2\n",
        "print(final_value)"
      ],
      "metadata": {
        "colab": {
          "base_uri": "https://localhost:8080/"
        },
        "id": "K6hQl5TZ9xGJ",
        "outputId": "13a2beb2-8aae-4ea3-ccdf-8a631a41f5a0"
      },
      "execution_count": 16,
      "outputs": [
        {
          "output_type": "stream",
          "name": "stdout",
          "text": [
            "3\n",
            "**\n",
            "2\n",
            "9.0\n"
          ]
        }
      ]
    }
  ]
}